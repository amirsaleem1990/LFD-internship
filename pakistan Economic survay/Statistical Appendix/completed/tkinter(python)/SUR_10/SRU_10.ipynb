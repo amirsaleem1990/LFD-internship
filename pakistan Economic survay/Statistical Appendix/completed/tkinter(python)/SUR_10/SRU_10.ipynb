{
 "cells": [
  {
   "cell_type": "code",
   "execution_count": 1,
   "metadata": {},
   "outputs": [],
   "source": [
    "import pandas as pd\n",
    "import numpy as np\n",
    "df1 = pd.read_csv('1.csv', delimiter = '\\t').T\n",
    "df2 = pd.read_csv('2.csv', delimiter = '\\t').T\n",
    "df3 = pd.read_csv('3.csv', delimiter = '\\t').T\n",
    "final = df1.append(df2.append(df3))\n",
    "final.columns = final.iloc[0]\n",
    "final = final.drop('Year    ')\n",
    "correct_index = []\n",
    "for i in final.index:\n",
    "    correct_index.append(i.capitalize().strip())\n",
    "correct_index =  [' '.join(i.strip().split()) for i in correct_index]\n",
    "final.index = correct_index\n",
    "\n",
    "final = final.replace('-', np.nan)\n",
    "for i in final.columns[:-1]:\n",
    "    final[i] = final[i].astype(float)\n",
    "final.to_csv('SRU_10_cleaned.csv')"
   ]
  },
  {
   "cell_type": "code",
   "execution_count": null,
   "metadata": {},
   "outputs": [],
   "source": []
  }
 ],
 "metadata": {
  "kernelspec": {
   "display_name": "Python 3",
   "language": "python",
   "name": "python3"
  },
  "language_info": {
   "codemirror_mode": {
    "name": "ipython",
    "version": 3
   },
   "file_extension": ".py",
   "mimetype": "text/x-python",
   "name": "python",
   "nbconvert_exporter": "python",
   "pygments_lexer": "ipython3",
   "version": "3.6.4"
  }
 },
 "nbformat": 4,
 "nbformat_minor": 2
}
