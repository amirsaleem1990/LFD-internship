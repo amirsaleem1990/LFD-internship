{
 "cells": [
  {
   "cell_type": "code",
   "execution_count": 288,
   "metadata": {},
   "outputs": [
    {
     "name": "stderr",
     "output_type": "stream",
     "text": [
      "/home/datascince/miniconda3/lib/python3.6/site-packages/pandas/core/frame.py:6211: FutureWarning: Sorting because non-concatenation axis is not aligned. A future version\n",
      "of pandas will change to not sort by default.\n",
      "\n",
      "To accept the future behavior, pass 'sort=False'.\n",
      "\n",
      "To retain the current behavior and silence the warning, pass 'sort=True'.\n",
      "\n",
      "  sort=sort)\n"
     ]
    }
   ],
   "source": [
    "import pandas as pd\n",
    "import numpy as np\n",
    "df1 = pd.read_csv('1.csv',delimiter= '\\t').T\n",
    "df2 = pd.read_csv('2.csv',delimiter= '\\t').T\n",
    "df3 = pd.read_csv('3.csv',delimiter= '\\t').T\n",
    "df4 = pd.read_csv('4.csv',delimiter= '\\t').T\n",
    "df5 = pd.read_csv('5.csv',delimiter= '\\t').T\n",
    "df6 = pd.read_csv('6.csv',delimiter= '\\t').T\n",
    "df7 = pd.read_csv('7.csv',delimiter= '\\t').T\n",
    "df8 = pd.read_csv('8.csv',delimiter= '\\t').T\n",
    "df9 = pd.read_csv('9.csv',delimiter= '\\t').T\n",
    "df10 = pd.read_csv('10.csv',delimiter= '\\t').T\n",
    "df11 = pd.read_csv('11.csv',delimiter= '\\t').T\n",
    "df12 = pd.read_csv('12.csv',delimiter= '\\t').T\n",
    "# Fiscal years\n",
    "f_dfs = [df1, df2, df3, df4,df8, df9, df10, df11, df12]\n",
    "# year\n",
    "y_dfs = [df5, df6, df7]\n",
    "for df in f_dfs + y_dfs:\n",
    "    index_names = []\n",
    "    for index in df.index:\n",
    "        index_names.append(index.capitalize().strip())\n",
    "    index_names = [' '.join(i.strip().split()) for i in index_names]\n",
    "    df.index = index_names\n",
    "for i in f_dfs + y_dfs:\n",
    "    i.columns = i.iloc[0]\n",
    "    \n",
    "dfs_f = df1.append(df2.append(df3.append(df4.append(df8.append(df9.append(df10.append(df11.append(df12))))))))\n",
    "dfs_f.drop(dfs_f.loc['Fiscal year'].index, inplace=True)\n",
    "dfs_y = df5.append(df6.append(df7))\n",
    "dfs_y.drop(dfs_y.loc['Year'].index, inplace=True)\n",
    "\n",
    "# sary variables str format me hen,, python sy float karny me error aa raha h, to df ko save kar k excel sy manually kar lya\n",
    "dfs_f.to_csv('dfs_f.csv')\n",
    "dfs_y.to_csv('dfs_y.csv')\n",
    "# excel me opar wali dono files khol kar un me sy '-' remove kar k nichy waly names sy save kar k wo files neechy khool lin.\n",
    "df_f = pd.read_csv('excel_working_f.csv')\n",
    "df_y = pd.read_csv('excel_working_y.csv')"
   ]
  }
 ],
 "metadata": {
  "kernelspec": {
   "display_name": "Python 3",
   "language": "python",
   "name": "python3"
  },
  "language_info": {
   "codemirror_mode": {
    "name": "ipython",
    "version": 3
   },
   "file_extension": ".py",
   "mimetype": "text/x-python",
   "name": "python",
   "nbconvert_exporter": "python",
   "pygments_lexer": "ipython3",
   "version": "3.6.4"
  }
 },
 "nbformat": 4,
 "nbformat_minor": 2
}
