{
 "cells": [
  {
   "cell_type": "code",
   "execution_count": 142,
   "metadata": {},
   "outputs": [
    {
     "name": "stderr",
     "output_type": "stream",
     "text": [
      "/home/datascince/miniconda3/lib/python3.6/site-packages/pandas/core/frame.py:6211: FutureWarning: Sorting because non-concatenation axis is not aligned. A future version\n",
      "of pandas will change to not sort by default.\n",
      "\n",
      "To accept the future behavior, pass 'sort=False'.\n",
      "\n",
      "To retain the current behavior and silence the warning, pass 'sort=True'.\n",
      "\n",
      "  sort=sort)\n"
     ]
    }
   ],
   "source": [
    "import pandas as pd\n",
    "import numpy as np\n",
    "df1 = pd.read_csv('1.csv', delimiter='\\t').T\n",
    "df2 = pd.read_csv('2.csv', delimiter='\\t').T\n",
    "df33 = pd.read_csv('3.csv', delimiter='\\t').set_index('Vaccine/doze.')\n",
    "df3 = pd.DataFrame()\n",
    "df4 = pd.read_csv('4.csv', delimiter='\\t').T\n",
    "a = [i.index for i in [df1, df2, df3, df4]]\n",
    "dfs = [df1, df2, df3, df4]\n",
    "for df in dfs:\n",
    "    correct_index = []\n",
    "    for index in df.index:\n",
    "        correct_index.append(index.capitalize().strip())\n",
    "    correct_index = [' '.join(i.strip().split()) for i in correct_index]\n",
    "    df.index = correct_index\n",
    "final = df1.append(df2.append(df4))\n",
    "final.columns = final.iloc[0]\n",
    "final.drop('Year', inplace=True)\n",
    "final = final.append(df33)\n",
    "\n",
    "final.drop(final[(final['2001'] == '2001') | (final['2015'] == '2015')].index, inplace=True)\n",
    "\n",
    "\n",
    "final = final.replace('-', np.nan)\n",
    "for i in final.columns[:-1]:\n",
    "    final[i] = final[i].astype(float)\n",
    "\n",
    "final.to_csv('SUR_11_cleaned.csv')"
   ]
  }
 ],
 "metadata": {
  "kernelspec": {
   "display_name": "Python 3",
   "language": "python",
   "name": "python3"
  },
  "language_info": {
   "codemirror_mode": {
    "name": "ipython",
    "version": 3
   },
   "file_extension": ".py",
   "mimetype": "text/x-python",
   "name": "python",
   "nbconvert_exporter": "python",
   "pygments_lexer": "ipython3",
   "version": "3.6.4"
  }
 },
 "nbformat": 4,
 "nbformat_minor": 2
}
