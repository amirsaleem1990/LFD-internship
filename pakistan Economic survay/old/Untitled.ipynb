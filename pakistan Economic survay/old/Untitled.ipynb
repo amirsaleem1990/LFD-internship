{
 "cells": [
  {
   "cell_type": "code",
   "execution_count": 8,
   "metadata": {
    "scrolled": false
   },
   "outputs": [
    {
     "data": {
      "text/plain": [
       "0"
      ]
     },
     "execution_count": 8,
     "metadata": {},
     "output_type": "execute_result"
    }
   ],
   "source": [
    "import pandas as pd\n",
    "import numpy as np\n",
    "df = pd.read_csv('tabula-SUR-1.csv', header=None)\n",
    "df.columns = df.iloc[1]\n",
    "df.drop(list(range(4)),inplace=True)\n",
    "df.set_index(df[np.nan], inplace=True)\n",
    "\n",
    "a = []\n",
    "b = []\n",
    "for i in df['2016-17 / 2017-18 /']:\n",
    "    if isinstance(i, str):\n",
    "        a.append(i[:i.index(' ')])\n",
    "        b.append(i[i.index(' '):])\n",
    "    else:\n",
    "        a.append(' ')\n",
    "        b.append(' ')\n",
    "\n",
    "df.rename(columns=({'2016-17 / 2017-18 /' : '2016-17 / 2015-16', np.nan: 'Sectors'}), inplace=True)\n",
    "df['2017-18 / 2016-17'] =  b\n",
    "df['2016-17 / 2015-16'] =  a\n",
    "df.reset_index(inplace=True)\n",
    "df.drop(np.nan, axis=1, inplace=True)\n",
    "df.Sectors = df.Sectors.astype(str)\n",
    "df['Sectors'] = [i[3:]  if i[:2] in ['1.', '2.', '3.', '4.', '5.', '6.', '7.', '8.', '9.', '10'] else i for i in df['Sectors']]\n",
    "df['Sectors'] = [i[3:]  if i[1] == '.' else i for i in df['Sectors']]\n",
    "df[df.Sectors == 'nan']\n",
    "df.drop(df[df['2015-16'] == 'F'].index, inplace=True)\n",
    "df.drop(df[df['2017-18 / 2016-17'] == ' Change'].index, inplace=True)\n",
    "df.drop(df[df['2010-11'] == '2010-11'].index, inplace=True)\n",
    "for z in df.columns[1:]:\n",
    "    delete_coma = []\n",
    "    for i in df[z]:\n",
    "        if isinstance(i, str):\n",
    "            if ',' in i:\n",
    "                delete_coma.append(float(i.replace(',', '')))\n",
    "            elif i == ' ':\n",
    "                delete_coma.append(np.nan)\n",
    "            else: delete_coma.append(i)\n",
    "        else: delete_coma.append(i)\n",
    "    df[z] = delete_coma\n",
    "    df[z] = df[z].astype(float)\n",
    "\n",
    "a = list(df[df['Sectors'] == 'lectricity Generation & Distribution & Gas'].index)\n",
    "a.append(list(df[df['Sectors'] == 'Electricity Generation & Distribution & Gas'].index)[0])\n",
    "a.append(list(df[df['Sectors'] == ' Electricity Generation & Distribution & Gas'].index)[0])\n",
    "for i in a:\n",
    "    df.loc[i+1] = [df.loc[i]['Sectors']] + list(df.loc[i+1][1:].values)\n",
    "    df.drop(i, inplace=True)\n",
    "\n",
    "df.drop([130,199,50,217],  inplace=True)\n",
    "aq = []\n",
    "for i in df.Sectors:\n",
    "    if 'ctricity' in i:\n",
    "        aq.append(i)\n",
    "aq = list(set(aq))\n",
    "\n",
    "df.Sectors = [i.capitalize() for i in df.Sectors]\n",
    "for i in [78, 93, 95, 98, 104, 106, 108, 110, 112, 134, 135, 160, 162, 165, 171, 173, 175, 177, 179, 228, 285]:\n",
    "    df.loc[i] = [df.loc[i-1].Sectors + ' ' + df.loc[i].Sectors] + list(df.loc[i][1:].values)\n",
    "    df.drop(i-1, inplace=True)\n",
    "df.drop(list(df[df.Sectors == 'Sector-wise:'].index), inplace=True)\n",
    "df.reset_index(inplace=True)\n",
    "df.drop('index', axis=1, inplace=True)\n",
    "\n",
    "froom = ['Lectricity generation & distribution & gas', 'Expenditure on gnp at At market prices',' other private services',' electricity generation & distribution & gas', ' Other Private Services', 'Mining and  quarrying', 'Wholesale and retail trade','A agriculture']\n",
    "too  = ['Lectricity generation & distribution & gas distribution', 'Expenditure on gnp at market prices', 'Other private services','Electricity generation & distribution & gas', 'Other Private Services', 'Mining & quarrying', 'Wholesale & retail trade','Agriculture']\n",
    "for i,z in zip(froom, too):\n",
    "    df.replace(i, z, inplace=True)\n",
    "table_1p1 = df.iloc[:31]\n",
    "table_1p2 = df.iloc[31: 56]\n",
    "table_1p3 = df.iloc[56:81]\n",
    "table_1p4 = df.iloc[81:97]\n",
    "table_1p5 = df.iloc[97:131]\n",
    "table_1p6 = df.iloc[131:147]\n",
    "table_1p7 = df.iloc[147:164]\n",
    "table_1p7a = df.iloc[164:177]\n",
    "table_1p7b = df.iloc[177:193]\n",
    "table_1p8 = df.iloc[193:210]\n",
    "table_1p8a = df.iloc[210:223]\n",
    "table_1p8b = df.iloc[223:]\n",
    "q = []\n",
    "for i in ['table_1p1', 'table_1p2', 'table_1p3', 'table_1p4', 'table_1p5', 'table_1p6', 'table_1p7', 'table_1p7a' ,'table_1p7b', 'table_1p8', 'table_1p8a', 'table_1p8b']:\n",
    "    q.append((i, eval(i).index[0], eval(i).index[-1]))\n",
    "a = []\n",
    "for i in range(len(q)):\n",
    "    a = a + ([q[i][0]] * len(list(range(q[i][1], q[i][2]+1))))\n",
    "df['Table'] = a\n",
    "cols = df.columns.tolist()\n",
    "cols = cols[-1:] + cols[:-1]\n",
    "df = df[cols]\n",
    "df.to_csv('working_on.csv')\n",
    "import os\n",
    "os.system('libreoffice working_on.csv')"
   ]
  }
 ],
 "metadata": {
  "kernelspec": {
   "display_name": "Python 3",
   "language": "python",
   "name": "python3"
  },
  "language_info": {
   "codemirror_mode": {
    "name": "ipython",
    "version": 3
   },
   "file_extension": ".py",
   "mimetype": "text/x-python",
   "name": "python",
   "nbconvert_exporter": "python",
   "pygments_lexer": "ipython3",
   "version": "3.6.4"
  }
 },
 "nbformat": 4,
 "nbformat_minor": 2
}
